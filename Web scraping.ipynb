{
 "cells": [
  {
   "cell_type": "code",
   "execution_count": 2,
   "metadata": {},
   "outputs": [],
   "source": [
    "import requests\n",
    "from urllib.request import urlopen \n",
    "import re\n",
    "from bs4 import BeautifulSoup "
   ]
  },
  {
   "cell_type": "code",
   "execution_count": null,
   "metadata": {},
   "outputs": [],
   "source": [
    "## download an image from web in python coding (image saved in the same address with this script)\n",
    "\n",
    "# imported the requests library \n",
    "import requests \n",
    "image_url = \"https://www.python.org/static/community_logos/python-logo-master-v3-TM.png\"\n",
    "  \n",
    "# URL of the image to be downloaded is defined as image_url \n",
    "r = requests.get(image_url) # create HTTP response object \n",
    "  \n",
    "# send a HTTP request to the server and save \n",
    "# the HTTP response in a response object called r \n",
    "with open(\"python_logo.png\",'wb') as f: \n",
    "  \n",
    "    # Saving received content as a png file in \n",
    "    # binary format \n",
    "  \n",
    "    # write the contents of the response (r.content) \n",
    "    # to a new file in binary mode. \n",
    "    f.write(r.content) \n",
    "    \n",
    "## when download large file, may not download in one step, use chuck to finish the downloading\n",
    "\n",
    "import requests \n",
    "file_url = \"http://codex.cs.yale.edu/avi/db-book/db4/slide-dir/ch1-2.pdf\"\n",
    "  \n",
    "r = requests.get(file_url, stream = True) \n",
    "  \n",
    "with open(\"python.pdf\",\"wb\") as pdf: \n",
    "    for chunk in r.iter_content(chunk_size=1024): \n",
    "  \n",
    "         # writing one chunk at a time to pdf file \n",
    "         if chunk: \n",
    "             pdf.write(chunk) "
   ]
  },
  {
   "cell_type": "code",
   "execution_count": null,
   "metadata": {},
   "outputs": [],
   "source": [
    "## downloading specific information from a web (web scrape -- using beautifulsoup)\n",
    "import requests \n",
    "from bs4 import BeautifulSoup \n",
    "  \n",
    "''' \n",
    "URL of the archive web-page which provides link to \n",
    "all video lectures. It would have been tiring to \n",
    "download each video manually. \n",
    "In this example, we first crawl the webpage to extract \n",
    "all the links and then download videos. \n",
    "'''\n",
    "  \n",
    "# specify the URL of the archive here \n",
    "archive_url = \"http://www-personal.umich.edu/~csev/books/py4inf/media/\"\n",
    "  \n",
    "def get_video_links():   # use beautifulsoup to get all video link from one page\n",
    "      \n",
    "    # create response object \n",
    "    r = requests.get(archive_url) \n",
    "      \n",
    "    # create beautiful-soup object \n",
    "    soup = BeautifulSoup(r.content,'html5lib') \n",
    "      \n",
    "    # find all links on web-page \n",
    "    links = soup.findAll('a') \n",
    "  \n",
    "    # filter the link sending with .mp4 \n",
    "    video_links = [archive_url + link['href'] for link in links if link['href'].endswith('mp4')] \n",
    "  \n",
    "    return video_links \n",
    "  \n",
    "  \n",
    "def download_video_series(video_links): \n",
    "  \n",
    "    for link in video_links: \n",
    "  \n",
    "        '''iterate through all links in video_links \n",
    "        and download them one by one'''\n",
    "          \n",
    "        # obtain filename by splitting url and getting  \n",
    "        # last string \n",
    "        file_name = link.split('/')[-1]    \n",
    "  \n",
    "        print (\"Downloading file:%s\" %file_name) \n",
    "          \n",
    "        # create response object \n",
    "        r = requests.get(link, stream = True) \n",
    "\n",
    "        # download started \n",
    "        with open(file_name, 'wb') as f: \n",
    "            for chunk in r.iter_content(chunk_size = 1024*1024): \n",
    "                if chunk: \n",
    "                    f.write(chunk) \n",
    "          \n",
    "        print (\"%s downloaded!\\n\" %file_name) \n",
    "  \n",
    "    print ('All videos downloaded!')\n",
    "    return 0\n",
    "  \n",
    "  \n",
    "  \n",
    "    # getting all video links \n",
    "# video_links = get_video_links() \n",
    "  \n",
    "    # download all videos \n",
    "# download_video_series(video_links) "
   ]
  },
  {
   "cell_type": "code",
   "execution_count": null,
   "metadata": {},
   "outputs": [],
   "source": [
    "\n",
    "with urlopen('http://www.baidu.com') as page:\n",
    "    soup = BeautifulSoup(page,'lxml')\n",
    "\n",
    "#for match in soup.find_all('div',class_ = 's_form'):\n",
    "#    print(match.prettify())\n",
    "\n",
    "#print(match.s_form_wrapper)"
   ]
  },
  {
   "cell_type": "markdown",
   "metadata": {},
   "source": [
    "Web scraping for ZhiHu information           "
   ]
  },
  {
   "cell_type": "code",
   "execution_count": 3,
   "metadata": {},
   "outputs": [],
   "source": [
    "import re\n",
    "import selenium\n",
    "from selenium import webdriver\n",
    "import requests\n",
    "from bs4 import BeautifulSoup\n",
    "import pandas as pd\n",
    "import time"
   ]
  },
  {
   "cell_type": "code",
   "execution_count": 5,
   "metadata": {},
   "outputs": [
    {
     "name": "stderr",
     "output_type": "stream",
     "text": [
      "D:\\Anaconda\\lib\\site-packages\\ipykernel_launcher.py:8: DeprecationWarning: use driver.switch_to.window instead\n",
      "  \n"
     ]
    }
   ],
   "source": [
    "driver = webdriver.Chrome(executable_path='C:\\Python27\\chromedriver.exe')\n",
    "driver.maximize_window()\n",
    "\n",
    "url = 'http://www.zhihu.com/question/37453271'\n",
    "js = 'window.open(\"'+url+'\")'\n",
    "driver.execute_script(js)\n",
    "driver.close()\n",
    "driver.switch_to_window(driver.window_handles[0])\n",
    "\n",
    "for i in range(0,100):\n",
    "    js = 'var q = document.documentElement.scrollTop = 1000000'\n",
    "    driver.execute_script(js)\n",
    "\n",
    "all_html = [k.get_property('innerHTML') for k in driver.find_elements_by_class_name('AnswerItem')]\n",
    "all_text = ''.join(all_html)"
   ]
  },
  {
   "cell_type": "code",
   "execution_count": 6,
   "metadata": {},
   "outputs": [],
   "source": [
    "all_text = all_text.replace('questions','question')\n",
    "pat = 'question/\\d+'\n",
    "questions = list(set([k for k in re.findall(pat,all_text)]))"
   ]
  },
  {
   "cell_type": "code",
   "execution_count": 7,
   "metadata": {},
   "outputs": [
    {
     "name": "stdout",
     "output_type": "stream",
     "text": [
      "248\n"
     ]
    }
   ],
   "source": []
  },
  {
   "cell_type": "code",
   "execution_count": null,
   "metadata": {},
   "outputs": [],
   "source": [
    "header = {'User-Agent':'Mozilla/5.0 (Windows NT 10.0; Win32; x32; rv:54.0) Gecko/20100101 Firefox/54.0','Connection':'keep-alive'}\n",
    "# cookies = 'v=3; iuuid = '\n",
    "# cookie = {}\n",
    "# for line in cookies.split\n",
    "\n",
    "title_list = []\n",
    "visit_list = []\n",
    "questions_df = []\n",
    "i = 0\n",
    "for question in questions:\n",
    "    try:\n",
    "        url = 'http://www.zhihu.com/'+ question\n",
    "        html = urlopen(url)\n",
    "        bsObj = BeautifulSoup(html,'lxml')\n",
    "        text = str(bsObj)\n",
    "        title = bsObj.find('h1',attrs = {'class':'QuestionHeader-title'}).text\n",
    "        title_list.append(title)\n",
    "        visit = int(re.findall('\"visitCount\":\\d+',text)[0].replace('\"visitCount\":',''))\n",
    "        follower = int(re.findall('\"followerCount\":\\d+',text)[0].replace('\"followerCount\":',''))\n",
    "        answer = int(re.findall('\"answerCount\":\\d+',text)[0].replace('\"answerCount\":',''))\n",
    "       # is_open = int(len(re.findall('问题已关闭'，text)) == 0 )\n",
    "        visit_list.append(visit)\n",
    "        questions_df.append({'title':title,'visit':visit,'follower':follower,'answer':answer})\n",
    "        i += 1\n",
    "        # time.sleep(2)\n",
    "        print('the '+i+'th question:',' ' )\n",
    "        print(title)\n",
    "    except:\n",
    "        print('something wrong ')\n",
    "        "
   ]
  },
  {
   "cell_type": "code",
   "execution_count": null,
   "metadata": {},
   "outputs": [],
   "source": [
    "print(questions[0])"
   ]
  },
  {
   "cell_type": "code",
   "execution_count": 35,
   "metadata": {},
   "outputs": [
    {
     "name": "stdout",
     "output_type": "stream",
     "text": [
      "the extracted information\n",
      "如何正确地为曹丞相盖被子？\n"
     ]
    }
   ],
   "source": [
    "questions_df = []\n",
    "web = questions[0]\n",
    "url = 'http://www.zhihu.com/'+ web\n",
    "html = urlopen(url)\n",
    "bsObj = BeautifulSoup(html,'lxml')\n",
    "text = str(bsObj)\n",
    "title = bsObj.find('h1',attrs = {'class':'QuestionHeader-title'}).text\n",
    "visit = int(re.findall('\"visitCount\":\\d+',text)[0].replace('\"visitCount\":',''))\n",
    "visit_num = bsObj.find_all(class_='NumberBoard-itemValue')\n",
    "follower = int(re.findall('\"followerCount\":\\d+',text)[0].replace('\"followerCount\":',''))\n",
    "answer = int(re.findall('\"answerCount\":\\d+',text)[0].replace('\"answerCount\":',''))\n",
    "#is_open = int(len(re.findall('问题已关闭'，text)) == 0 )\n",
    "questions_df.append({'url':url,'title':title,'visit':visit,'follower':follower,'answer':answer})\n",
    "\n",
    "#time.sleep(2)\n",
    "print('the extracted information')\n",
    "#print(questions_df)\n",
    "print(title)"
   ]
  },
  {
   "cell_type": "code",
   "execution_count": null,
   "metadata": {},
   "outputs": [],
   "source": [
    "web = questions[2]\n",
    "url = 'http://www.zhihu.com/'+ web\n",
    "html = urlopen(url)\n",
    "bsObj = BeautifulSoup(html,'html5lib')\n",
    "title = bsObj.find('h1').ipynb_checkpoints/print(title)"
   ]
  },
  {
   "cell_type": "code",
   "execution_count": null,
   "metadata": {},
   "outputs": [],
   "source": [
    "bsObj.head"
   ]
  },
  {
   "cell_type": "code",
   "execution_count": null,
   "metadata": {},
   "outputs": [],
   "source": []
  }
 ],
 "metadata": {
  "kernelspec": {
   "display_name": "Python 3",
   "language": "python",
   "name": "python3"
  }
 },
 "nbformat": 4,
 "nbformat_minor": 2
}
